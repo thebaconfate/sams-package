{
 "cells": [
  {
   "cell_type": "markdown",
   "metadata": {},
   "source": [
    "# Introduction to data science\n",
    "Author: Gérard Lichtert\n",
    "\n",
    "## Introduction\n",
    "This notebook is to clean data from a csv, it removes unnecesary columns, computes means and saves the processed data to a new csv file found in the output folder.\n",
    "\n",
    "It will also make a new dataframe containing averages per day per participant and save it to a csv"
   ]
  },
  {
   "cell_type": "markdown",
   "metadata": {},
   "source": [
    "## Variables you can change\n",
    "In the following code cell you can change the variables as you need"
   ]
  },
  {
   "cell_type": "code",
   "execution_count": 1,
   "metadata": {},
   "outputs": [],
   "source": [
    "# * This is a list of headers we want to delete (exluding the ones with _TZ, _RT and _TZ)\n",
    "# * the headers with _TZ, _RT and _TZ will be removed automatically.\n",
    "HEADERS_TO_DELETE: list[str] = [\n",
    "    \"STUDY_ID\",\n",
    "    \"STUDY_NAME\",\n",
    "    \"STUDY_VERSION\",\n",
    "    \"SURVEY_ID\",\n",
    "    \"TRIGGER\",\n",
    "    \"START_END\",\n",
    "    \"RAND_PROB\",\n",
    "    \"CONTROLLEVRAAG\",\n",
    "    \"INTRO\",\n",
    "    \"SLOT\",\n",
    "    \"BEDANKT\",\n",
    "    \"INLEIDING\",\n",
    "]"
   ]
  },
  {
   "cell_type": "code",
   "execution_count": 2,
   "metadata": {},
   "outputs": [
    {
     "name": "stdout",
     "output_type": "stream",
     "text": [
      "Files processed successfully!\n"
     ]
    }
   ],
   "source": [
    "from obse import obse\n",
    "\n",
    "obse.process_obse(HEADERS_TO_DELETE)"
   ]
  }
 ],
 "metadata": {
  "kernelspec": {
   "display_name": "src-30St-BHy-py3.12",
   "language": "python",
   "name": "python3"
  },
  "language_info": {
   "codemirror_mode": {
    "name": "ipython",
    "version": 3
   },
   "file_extension": ".py",
   "mimetype": "text/x-python",
   "name": "python",
   "nbconvert_exporter": "python",
   "pygments_lexer": "ipython3",
   "version": "3.12.0"
  }
 },
 "nbformat": 4,
 "nbformat_minor": 2
}
