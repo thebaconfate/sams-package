{
 "cells": [
  {
   "cell_type": "markdown",
   "metadata": {},
   "source": [
    "# Introduction to data science\n",
    "Author: Gérard Lichtert\n",
    "\n",
    "## Introduction\n",
    "This notebook is to clean data from a csv, it removes unnecesary columns, computes means and saves the processed data to a new csv file found in the output folder.\n",
    "\n",
    "It will also make a new dataframe containing averages per day per participant and save it to a csv for the OBSE survey\n",
    "\n",
    "## Usage\n",
    "Following the instructions in the README.md file is crucial for installation, for execution it suffices to run all twice. The first time will create the necessary directories. You are expected to put the input CSV files in the resources/in directory. After you've moved the CSV files to the resources/in directory you can run it again to process the CSV files. After processing they will end up in the resources/out directory and depending on the data processed in either obse or afvar subdirectories."
   ]
  },
  {
   "cell_type": "markdown",
   "metadata": {},
   "source": [
    "## Variables you can change\n",
    "In the following code cells you can change the variables as you need as these will be the columns that need to be removed from the OBSE survey and the other one respectively."
   ]
  },
  {
   "cell_type": "code",
   "execution_count": 1,
   "metadata": {},
   "outputs": [],
   "source": [
    "# This is a list of headers we want to delete (exluding the ones with _TZ, _RT and _TZ) from the OBSE survey\n",
    "# the headers with _TZ, _RT and _TZ will be removed automatically.\n",
    "HEADERS_TO_DELETE_OBSE: list[str] = [\n",
    "    \"STUDY_ID\",\n",
    "    \"STUDY_NAME\",\n",
    "    \"STUDY_VERSION\",\n",
    "    \"SURVEY_ID\",\n",
    "    \"TRIGGER\",\n",
    "    \"START_END\",\n",
    "    \"RAND_PROB\",\n",
    "    \"CONTROLLEVRAAG\",\n",
    "    \"INTRO\",\n",
    "    \"SLOT\",\n",
    "    \"BEDANKT\",\n",
    "    \"INLEIDING\",\n",
    "]"
   ]
  },
  {
   "cell_type": "code",
   "execution_count": 2,
   "metadata": {},
   "outputs": [],
   "source": [
    "# This is a list of headers we want to delete (exluding the ones with _TZ, _RT and _TZ) from the afvar survey\n",
    "# the headers with _TZ, _RT and _TZ will be removed automatically.\n",
    "HEADERS_TO_DELETE_OTHER = [\n",
    "    \"STUDY_ID\",\n",
    "    \"STUDY_NAME\",\n",
    "    \"STUDY_VERSION\",\n",
    "    \"SURVEY_ID\",\n",
    "    \"TRIGGER\",\n",
    "    \"START_END\",\n",
    "    \"RAND_PROB\",\n",
    "]\n"
   ]
  },
  {
   "cell_type": "markdown",
   "metadata": {},
   "source": [
    "## Execution\n",
    "Underneath are the code cells that process all the data. Run this once first to create the necessary directories. Run this a second time after moving the CSV files in the resources/in directory to process them."
   ]
  },
  {
   "cell_type": "code",
   "execution_count": 3,
   "metadata": {},
   "outputs": [
    {
     "name": "stdout",
     "output_type": "stream",
     "text": [
      "Columns: ['PARTICIPANT_ID', 'PARTICIPANT_TZ', 'STUDY_ID', 'STUDY_NAME', 'STUDY_VERSION', 'SURVEY_ID', 'SURVEY_NAME', 'TRIGGER', 'EXPORT_TZ', 'START_END', 'CREATED_TS', 'SCHEDULED_TS', 'STARTED_TS', 'COMPLETED_TS', 'EXPIRED_TS', 'UPLOADED_TS', 'TOTAL_RT', 'RAND_PROB', 'INLEIDING_WERKTEVREDENHEID', 'INLEIDING_WERKTEVREDENHEID_RT', 'WERKOMSTANDIGHEDEN_1', 'WERKOMSTANDIGHEDEN_2', 'WERKOMSTANDIGHEDEN_3', 'WERKOMSTANDIGHEDEN_4', 'WERKOMSTANDIGHEDEN_5', 'WERKOMSTANDIGHEDEN_RT', 'WERKMETHODE_1', 'WERKMETHODE_2', 'WERKMETHODE_3', 'WERKMETHODE_4', 'WERKMETHODE_5', 'WERKMETHODE_RT', \"COLLEGA'S_1\", \"COLLEGA'S_2\", \"COLLEGA'S_3\", \"COLLEGA'S_4\", \"COLLEGA'S_5\", \"COLLEGA'S_RT\", 'ERKENNING_1', 'ERKENNING_2', 'ERKENNING_3', 'ERKENNING_4', 'ERKENNING_5', 'ERKENNING_RT', 'BAAS_1', 'BAAS_2', 'BAAS_3', 'BAAS_4', 'BAAS_5', 'BAAS_RT', 'VERANTWOORDELIJKHEID_1', 'VERANTWOORDELIJKHEID_2', 'VERANTWOORDELIJKHEID_3', 'VERANTWOORDELIJKHEID_4', 'VERANTWOORDELIJKHEID_5', 'VERANTWOORDELIJKHEID_RT', 'SALARIS_1', 'SALARIS_2', 'SALARIS_3', 'SALARIS_4', 'SALARIS_5', 'SALARIS_RT', 'CAPACITEITEN_1', 'CAPACITEITEN_2', 'CAPACITEITEN_3', 'CAPACITEITEN_4', 'CAPACITEITEN_5', 'CAPACITEITEN_RT', 'ARBEIDSVERHOUDING_1', 'ARBEIDSVERHOUDING_2', 'ARBEIDSVERHOUDING_3', 'ARBEIDSVERHOUDING_4', 'ARBEIDSVERHOUDING_5', 'ARBEIDSVERHOUDING_RT', 'PROMOTIE_1', 'PROMOTIE_2', 'PROMOTIE_3', 'PROMOTIE_4', 'PROMOTIE_5', 'PROMOTIE_RT', 'LEIDING_1', 'LEIDING_2', 'LEIDING_3', 'LEIDING_4', 'LEIDING_5', 'LEIDING_RT', 'SUGGESTIES_1', 'SUGGESTIES_2', 'SUGGESTIES_3', 'SUGGESTIES_4', 'SUGGESTIES_5', 'SUGGESTIES_RT', 'WERKUREN_1', 'WERKUREN_2', 'WERKUREN_3', 'WERKUREN_4', 'WERKUREN_5', 'WERKUREN_RT', 'VARIATIE_1', 'VARIATIE_2', 'VARIATIE_3', 'VARIATIE_4', 'VARIATIE_5', 'VARIATIE_RT', 'WERKZEKERHEID_1', 'WERKZEKERHEID_2', 'WERKZEKERHEID_3', 'WERKZEKERHEID_4', 'WERKZEKERHEID_5', 'WERKZEKERHEID_RT', 'TOTAAL_1', 'TOTAAL_2', 'TOTAAL_3', 'TOTAAL_4', 'TOTAAL_5', 'TOTAAL_RT', 'IDEAAL', 'IDEAAL_RT', 'OMSTANDIGHEDEN', 'OMSTANDIGHEDEN_RT', 'TEVREDEN', 'TEVREDEN_RT', 'BELANGRIJKE_DINGEN', 'BELANGRIJKE_DINGEN_RT', 'NIETS_VERANDEREN', 'NIETS_VERANDEREN_RT', 'INLEIDING_TAAKPRESTATIE', 'INLEIDING_TAAKPRESTATIE_RT', 'GRONDIG', 'GRONDIG_RT', 'SLORDIGHEDEN', 'SLORDIGHEDEN_RT', 'KWALITEITSEISEN', 'KWALITEITSEISEN_RT', 'ANDEREN_PRIJZEN', 'ANDEREN_PRIJZEN_RT', \"PERSOONLIJKE_PROBLEMEN_COLLEGA'S\", \"PERSOONLIJKE_PROBLEMEN_COLLEGA'S_RT\", \"BESPREKEN_COLLEGA'S\", \"BESPREKEN_COLLEGA'S_RT\", 'SFEER_BEVORDEREN', 'SFEER_BEVORDEREN_RT', 'GOED_VOELEN', 'GOED_VOELEN_RT', 'FAIR_BEHANDELEN', 'FAIR_BEHANDELEN_RT', 'HELPEN_ZONDER_VRAGEN', 'HELPEN_ZONDER_VRAGEN_RT', 'CREATIEVE_OPLOSSINGEN', 'CREATIEVE_OPLOSSINGEN_RT', 'VERSCHILLENDE_INVALSHOEKEN', 'VERSCHILLENDE_INVALSHOEKEN_RT', 'INNOVATIEVE_STRATEGIEËN', 'INNOVATIEVE_STRATEGIEËN_RT', 'ONVERWACHTE_WERKSITUATIES', 'ONVERWACHTE_WERKSITUATIES_RT', 'BEPERKTE_INFORMATIE', 'BEPERKTE_INFORMATIE_RT', 'VERANDERENDE_OMSTANDIGHEDEN', 'VERANDERENDE_OMSTANDIGHEDEN_RT', 'WERKDRUK', 'WERKDRUK_RT', 'ONVERWACHT_NIEUWS', 'ONVERWACHT_NIEUWS_RT', 'TEGENVALLEND_RESULTAAT', 'TEGENVALLEND_RESULTAAT_RT', 'TEGENVALLEND_RESULTAAT)', 'TEGENVALLEND_RESULTAAT)_RT', 'TEGENVALLEND_RESULTAAT)_CLONE_e5KL51Ni-', 'TEGENVALLEND_RESULTAAT)_CLONE_e5KL51Ni-_RT', 'TAAKPRESTATIE', 'TAAKPRESTATIE_RT', 'IDEAAL_duplicated_0', 'IDEAAL\"_R', 'OMSTANDIGHEDEN_duplicated_0', 'OMSTANDIGHEDEN\"_R', 'TEVREDEN_duplicated_0', 'TEVREDEN\"_R', 'BELANGRIJKE_DINGEN_duplicated_0', 'BELANGRIJKE_DINGEN\"_R', 'NIETS_VERANDEREN_duplicated_0', 'NIETS_VERANDEREN\"_R']\n",
      "Columns to be removed: ['STUDY_ID', 'STUDY_NAME', 'STUDY_VERSION', 'SURVEY_ID', 'TRIGGER', 'START_END', 'RAND_PROB', 'PARTICIPANT_TZ', 'EXPORT_TZ', 'CREATED_TS', 'SCHEDULED_TS', 'STARTED_TS', 'EXPIRED_TS', 'UPLOADED_TS', 'TOTAL_RT', 'INLEIDING_WERKTEVREDENHEID_RT', 'WERKOMSTANDIGHEDEN_RT', 'WERKMETHODE_RT', \"COLLEGA'S_RT\", 'ERKENNING_RT', 'BAAS_RT', 'VERANTWOORDELIJKHEID_RT', 'SALARIS_RT', 'CAPACITEITEN_RT', 'ARBEIDSVERHOUDING_RT', 'PROMOTIE_RT', 'LEIDING_RT', 'SUGGESTIES_RT', 'WERKUREN_RT', 'VARIATIE_RT', 'WERKZEKERHEID_RT', 'TOTAAL_RT', 'IDEAAL_RT', 'OMSTANDIGHEDEN_RT', 'TEVREDEN_RT', 'BELANGRIJKE_DINGEN_RT', 'NIETS_VERANDEREN_RT', 'INLEIDING_TAAKPRESTATIE_RT', 'GRONDIG_RT', 'SLORDIGHEDEN_RT', 'KWALITEITSEISEN_RT', 'ANDEREN_PRIJZEN_RT', \"PERSOONLIJKE_PROBLEMEN_COLLEGA'S_RT\", \"BESPREKEN_COLLEGA'S_RT\", 'SFEER_BEVORDEREN_RT', 'GOED_VOELEN_RT', 'FAIR_BEHANDELEN_RT', 'HELPEN_ZONDER_VRAGEN_RT', 'CREATIEVE_OPLOSSINGEN_RT', 'VERSCHILLENDE_INVALSHOEKEN_RT', 'INNOVATIEVE_STRATEGIEËN_RT', 'ONVERWACHTE_WERKSITUATIES_RT', 'BEPERKTE_INFORMATIE_RT', 'VERANDERENDE_OMSTANDIGHEDEN_RT', 'WERKDRUK_RT', 'ONVERWACHT_NIEUWS_RT', 'TEGENVALLEND_RESULTAAT_RT', 'TEGENVALLEND_RESULTAAT)_RT', 'TEGENVALLEND_RESULTAAT)_CLONE_e5KL51Ni-_RT', 'TAAKPRESTATIE_RT']\n",
      "Remaining columns: ['PARTICIPANT_ID', 'SURVEY_NAME', 'COMPLETED_TS', 'INLEIDING_WERKTEVREDENHEID', 'WERKOMSTANDIGHEDEN_1', 'WERKOMSTANDIGHEDEN_2', 'WERKOMSTANDIGHEDEN_3', 'WERKOMSTANDIGHEDEN_4', 'WERKOMSTANDIGHEDEN_5', 'WERKMETHODE_1', 'WERKMETHODE_2', 'WERKMETHODE_3', 'WERKMETHODE_4', 'WERKMETHODE_5', \"COLLEGA'S_1\", \"COLLEGA'S_2\", \"COLLEGA'S_3\", \"COLLEGA'S_4\", \"COLLEGA'S_5\", 'ERKENNING_1', 'ERKENNING_2', 'ERKENNING_3', 'ERKENNING_4', 'ERKENNING_5', 'BAAS_1', 'BAAS_2', 'BAAS_3', 'BAAS_4', 'BAAS_5', 'VERANTWOORDELIJKHEID_1', 'VERANTWOORDELIJKHEID_2', 'VERANTWOORDELIJKHEID_3', 'VERANTWOORDELIJKHEID_4', 'VERANTWOORDELIJKHEID_5', 'SALARIS_1', 'SALARIS_2', 'SALARIS_3', 'SALARIS_4', 'SALARIS_5', 'CAPACITEITEN_1', 'CAPACITEITEN_2', 'CAPACITEITEN_3', 'CAPACITEITEN_4', 'CAPACITEITEN_5', 'ARBEIDSVERHOUDING_1', 'ARBEIDSVERHOUDING_2', 'ARBEIDSVERHOUDING_3', 'ARBEIDSVERHOUDING_4', 'ARBEIDSVERHOUDING_5', 'PROMOTIE_1', 'PROMOTIE_2', 'PROMOTIE_3', 'PROMOTIE_4', 'PROMOTIE_5', 'LEIDING_1', 'LEIDING_2', 'LEIDING_3', 'LEIDING_4', 'LEIDING_5', 'SUGGESTIES_1', 'SUGGESTIES_2', 'SUGGESTIES_3', 'SUGGESTIES_4', 'SUGGESTIES_5', 'WERKUREN_1', 'WERKUREN_2', 'WERKUREN_3', 'WERKUREN_4', 'WERKUREN_5', 'VARIATIE_1', 'VARIATIE_2', 'VARIATIE_3', 'VARIATIE_4', 'VARIATIE_5', 'WERKZEKERHEID_1', 'WERKZEKERHEID_2', 'WERKZEKERHEID_3', 'WERKZEKERHEID_4', 'WERKZEKERHEID_5', 'TOTAAL_1', 'TOTAAL_2', 'TOTAAL_3', 'TOTAAL_4', 'TOTAAL_5', 'IDEAAL', 'OMSTANDIGHEDEN', 'TEVREDEN', 'BELANGRIJKE_DINGEN', 'NIETS_VERANDEREN', 'INLEIDING_TAAKPRESTATIE', 'GRONDIG', 'SLORDIGHEDEN', 'KWALITEITSEISEN', 'ANDEREN_PRIJZEN', \"PERSOONLIJKE_PROBLEMEN_COLLEGA'S\", \"BESPREKEN_COLLEGA'S\", 'SFEER_BEVORDEREN', 'GOED_VOELEN', 'FAIR_BEHANDELEN', 'HELPEN_ZONDER_VRAGEN', 'CREATIEVE_OPLOSSINGEN', 'VERSCHILLENDE_INVALSHOEKEN', 'INNOVATIEVE_STRATEGIEËN', 'ONVERWACHTE_WERKSITUATIES', 'BEPERKTE_INFORMATIE', 'VERANDERENDE_OMSTANDIGHEDEN', 'WERKDRUK', 'ONVERWACHT_NIEUWS', 'TEGENVALLEND_RESULTAAT', 'TEGENVALLEND_RESULTAAT)', 'TEGENVALLEND_RESULTAAT)_CLONE_e5KL51Ni-', 'TAAKPRESTATIE', 'IDEAAL_duplicated_0', 'IDEAAL\"_R', 'OMSTANDIGHEDEN_duplicated_0', 'OMSTANDIGHEDEN\"_R', 'TEVREDEN_duplicated_0', 'TEVREDEN\"_R', 'BELANGRIJKE_DINGEN_duplicated_0', 'BELANGRIJKE_DINGEN\"_R', 'NIETS_VERANDEREN_duplicated_0', 'NIETS_VERANDEREN\"_R']\n"
     ]
    }
   ],
   "source": [
    "from afvar import afvar\n",
    "from obse import obse\n",
    "from common import common\n",
    "import polars as pl\n",
    "\n",
    "# ! CHANGE THE CODE AT YOUR OWN PERIL\n",
    "\n",
    "for file in common.IN_DIR.iterdir():\n",
    "    raw_lf: pl.LazyFrame = common.load_csv(filename=file.name)\n",
    "    if obse.is_obse_survey(raw_lf):\n",
    "        processed_lf = obse.process_obse(raw_lf, HEADERS_TO_DELETE_OBSE, False)\n",
    "        daily_means_lf = obse.create_daily_means(processed_lf)\n",
    "        obse.save_csv(processed_lf, \"obse_cleaned.csv\")\n",
    "        obse.save_excel(processed_lf, \"obse_cleaned.xlsx\")\n",
    "        obse.save_csv(daily_means_lf, \"obse_daily_means.csv\")\n",
    "        obse.save_excel(daily_means_lf, \"obse_daily_means.xlsx\")\n",
    "    else:\n",
    "        processed_lf = afvar.process_afvar(raw_lf, HEADERS_TO_DELETE_OTHER, False)\n",
    "        afvar.save_csv(processed_lf, \"afvar_cleaned.csv\")\n",
    "        print(f\"Columns: {raw_lf.columns}\")\n",
    "        print(f\"Columns to be removed: {HEADERS_TO_DELETE_OTHER + common.tz_rt_ts_headers(raw_lf)}\")\n",
    "        print(f\"Remaining columns: {afvar.clean_lf(raw_lf, HEADERS_TO_DELETE_OTHER, False).columns}\")"
   ]
  }
 ],
 "metadata": {
  "kernelspec": {
   "display_name": "src-30St-BHy-py3.12",
   "language": "python",
   "name": "python3"
  },
  "language_info": {
   "codemirror_mode": {
    "name": "ipython",
    "version": 3
   },
   "file_extension": ".py",
   "mimetype": "text/x-python",
   "name": "python",
   "nbconvert_exporter": "python",
   "pygments_lexer": "ipython3",
   "version": "3.12.0"
  }
 },
 "nbformat": 4,
 "nbformat_minor": 2
}
