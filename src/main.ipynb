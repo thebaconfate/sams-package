{
 "cells": [
  {
   "cell_type": "markdown",
   "metadata": {},
   "source": [
    "# Introduction to data science\n",
    "Author: Gérard Lichtert\n",
    "\n",
    "## Introduction\n",
    "This notebook is to clean data from a csv, it removes unnecesary columns, computes means and saves the processed data to a new csv file found in the output folder.\n",
    "\n",
    "It will also make a new dataframe containing averages per day per participant and save it to a csv"
   ]
  },
  {
   "cell_type": "markdown",
   "metadata": {},
   "source": [
    "## Variables you can change\n",
    "In the following code cell you can change the variables as you need"
   ]
  },
  {
   "cell_type": "code",
   "execution_count": 3,
   "metadata": {},
   "outputs": [],
   "source": [
    "# * This is a list of headers we want to delete (exluding the ones with _TZ, _RT and _TZ)\n",
    "# * You can concatenate this list with the result of the tz_rt_ts_headers function to\n",
    "# * include the ones with _TZ, _RT, and _TZ\n",
    "HEADERS_TO_DELETE: list[str] = [\n",
    "    \"STUDY_ID\",\n",
    "    \"STUDY_NAME\",\n",
    "    \"STUDY_VERSION\",\n",
    "    \"SURVEY_ID\",\n",
    "    \"TRIGGER\",\n",
    "    \"START_END\",\n",
    "    \"RAND_PROB\",\n",
    "    \"CONTROLLEVRAAG\",\n",
    "    \"INTRO\",\n",
    "    \"SLOT\",\n",
    "    \"BEDANKT\",\n",
    "    \"INLEIDING\",\n",
    "]"
   ]
  },
  {
   "cell_type": "markdown",
   "metadata": {},
   "source": [
    "## Global constants and functions\n",
    "First we declare a few global constants and functions. These will load the data in as well as manipulate it and save it. Be very careful when changing this as this might break crucial parts of the code."
   ]
  },
  {
   "cell_type": "code",
   "execution_count": 4,
   "metadata": {},
   "outputs": [],
   "source": [
    "from pathlib import Path\n",
    "from pandas import DataFrame, read_csv, concat, to_numeric\n",
    "\n",
    "def more_than_5_entries(df: DataFrame, id: str | None = None):\n",
    "    \"\"\"Checks if a DataFrame is larger than 5, optionally with a given id\"\"\"\n",
    "    if id is not None:\n",
    "        return select_by_activity((select_by_name(df, id))).shape[0] >= 5\n",
    "    else:\n",
    "        return select_by_activity(df).shape[0] >= 5\n",
    "\n",
    "\n",
    "def add_daily_mean(df: DataFrame, columns: list[str]) -> DataFrame:\n",
    "    df[columns] = df[columns].apply(to_numeric)\n",
    "    df[\"MEAN\"] = df[columns].mean(axis=1)\n",
    "    return df\n",
    "\n",
    "\n",
    "def clean_and_add_mean(df: DataFrame) -> DataFrame:\n",
    "    # TODO: make a for comprehension in the concat function\n",
    "    res_df: DataFrame = DataFrame()\n",
    "    for participant in df[\"PARTICIPANT_ID\"].unique():\n",
    "        df_participant = df.loc[df[\"PARTICIPANT_ID\"] == participant]\n",
    "        if more_than_5_entries(df_participant):\n",
    "            res_df = concat(\n",
    "                [res_df, select_by_activity(df_participant)], ignore_index=True\n",
    "            )\n",
    "    res_df = add_daily_mean(res_df, [\"1\", \"2\", \"3\", \"4\", \"5\", \"6\", \"7\", \"8\", \"9\", \"10\"])\n",
    "    return res_df\n",
    "\n",
    "\n",
    "def transform_means(df: DataFrame):\n",
    "    max_means = df[\"PARTICIPANT_ID\"].value_counts().max()\n",
    "    columns = [\"PARTICIPANT_ID\"] + [\n",
    "        \"DAG_\" + str(day) for day in range(1, max_means + 1)\n",
    "    ]\n",
    "    daily_means_df = DataFrame(columns=columns)\n",
    "    print(daily_means_df.columns.values)\n",
    "    # TODO: Finish this\n",
    "\n",
    "\n",
    "def process_obse(headers: list[str]) -> DataFrame | None:\n",
    "    for file in IN_DIR.iterdir():\n",
    "        if file.is_file() and file.suffix == \".csv\":\n",
    "            df = read_data_from_csv(file.name)\n",
    "            df = delete_headers(df, headers, tz_rt_ts_headers_allowed=False)\n",
    "            processed_df = clean_and_add_mean(df)\n",
    "            save_data_to_csv(processed_df, file.name)\n",
    "            print(transform_means(processed_df))"
   ]
  },
  {
   "cell_type": "code",
   "execution_count": 1,
   "metadata": {},
   "outputs": [
    {
     "name": "stdout",
     "output_type": "stream",
     "text": [
      "True True\n",
      "..\\resources\\obse\\data\\exports_8gQqgGGHa_export_F005kvQNV.csv\n",
      "['PARTICIPANT_TZ', 'EXPORT_TZ', 'CREATED_TS', 'SCHEDULED_TS', 'STARTED_TS', 'COMPLETED_TS', 'EXPIRED_TS', 'UPLOADED_TS', 'TOTAL_RT', 'ACTIVITEIT_RT', 'INLEIDING_RT', '1_RT', '2_RT', '3_RT', '4_RT', '5_RT', '6_RT', '7_RT', '8_RT', '9_RT', '10_RT', 'BEDANKT_RT', 'CONTROLLEVRAAG_RT', 'INTRO_RT', 'SLOT_RT']\n"
     ]
    }
   ],
   "source": [
    "from obse import obse\n",
    "import polars as pl\n",
    "csv = obse.load_csv(\"exports_8gQqgGGHa_export_F005kvQNV.csv\")"
   ]
  }
 ],
 "metadata": {
  "kernelspec": {
   "display_name": "src-30St-BHy-py3.12",
   "language": "python",
   "name": "python3"
  },
  "language_info": {
   "codemirror_mode": {
    "name": "ipython",
    "version": 3
   },
   "file_extension": ".py",
   "mimetype": "text/x-python",
   "name": "python",
   "nbconvert_exporter": "python",
   "pygments_lexer": "ipython3",
   "version": "3.12.0"
  }
 },
 "nbformat": 4,
 "nbformat_minor": 2
}
